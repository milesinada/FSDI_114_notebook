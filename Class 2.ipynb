{
 "cells": [
  {
   "cell_type": "code",
   "execution_count": 7,
   "id": "068ff002",
   "metadata": {},
   "outputs": [],
   "source": [
    "class Stack:\n",
    "    def __init__(self):\n",
    "        self.items = []\n",
    "        \n",
    "    def is_empty(self):\n",
    "        return self.items ==[]\n",
    "    \n",
    "    def push(self, item):\n",
    "        self.items.append(item)\n",
    "        \n",
    "    def pop(self):\n",
    "        return self.items.pop()\n",
    "    \n",
    "    def peek(self):\n",
    "        return self.items[len(self.items-1)]\n",
    "    \n",
    "    def size(self):\n",
    "        return len(self.items)\n",
    "    "
   ]
  },
  {
   "cell_type": "markdown",
   "id": "bcfa1627",
   "metadata": {},
   "source": [
    "# String Reversal\n",
    "### Using our stack class(above), create a function called \"reverse_str\" that takes a parameter \"s\"(string and inverts it.)\n",
    "\n",
    "```\n",
    " Example:\n",
    " s = \"Rafael\"\n",
    " o = reverse_str(s)\n",
    " print(o) == \"leafaR\"\n",
    "```"
   ]
  },
  {
   "cell_type": "code",
   "execution_count": 8,
   "id": "68cb2f57",
   "metadata": {},
   "outputs": [
    {
     "data": {
      "text/plain": [
       "'seliM'"
      ]
     },
     "execution_count": 8,
     "metadata": {},
     "output_type": "execute_result"
    }
   ],
   "source": [
    "def reverse_str(s):\n",
    "    stack = Stack()\n",
    "    for letter in s:\n",
    "        stack.push(letter)\n",
    "    reversal = \"\"\n",
    "    while stack.is_empty() == False:\n",
    "        reversal += stack.pop()\n",
    "    return reversal\n",
    "\n",
    "reverse_str(\"Miles\")"
   ]
  },
  {
   "cell_type": "code",
   "execution_count": 9,
   "id": "b3f3a455",
   "metadata": {},
   "outputs": [],
   "source": [
    "# How would you reverse a string without a stack?\n",
    "# How would you create a function that determines is a string is a pallindrome?"
   ]
  },
  {
   "cell_type": "code",
   "execution_count": 10,
   "id": "e87f9aac",
   "metadata": {},
   "outputs": [],
   "source": [
    "def is_palindrome(mystring):\n",
    "    pivot1 = len(mystring)-1\n",
    "    pivot2 = 0\n",
    "#     last_char = mystring[len(mystring)-1]\n",
    "#     first_char = mystring[0]\n",
    "    while pivot2 < pivot1:\n",
    "        if mystring[pivot1] != mystring[pivot2]:\n",
    "            return False\n",
    "        pivot2 += 1\n",
    "        pivot1 -= 1\n",
    "    return True\n",
    "   \n",
    "# mystring = \"Rafael\"\n",
    "# mystring[1]"
   ]
  },
  {
   "cell_type": "code",
   "execution_count": 11,
   "id": "7bf377b4",
   "metadata": {},
   "outputs": [],
   "source": [
    "class Queue:\n",
    "    def __init__(self):\n",
    "        self.items = []\n",
    "    \n",
    "    def is_empty(self):\n",
    "        return self.items == []\n",
    "    \n",
    "    def enqueue(self, item):\n",
    "        self.items.insert(0, item)\n",
    "    \n",
    "    def dequeue(self):\n",
    "        return self.items.pop()\n",
    "    \n",
    "    def size(self):\n",
    "        return len(self.items)"
   ]
  },
  {
   "cell_type": "code",
   "execution_count": 12,
   "id": "77d1d674",
   "metadata": {},
   "outputs": [
    {
     "name": "stdout",
     "output_type": "stream",
     "text": [
      "M\n",
      "i\n",
      "l\n",
      "e\n",
      "s\n"
     ]
    }
   ],
   "source": [
    "mystring = \"Miles\"\n",
    "queue = Queue()\n",
    "for letter in mystring:\n",
    "    queue.enqueue(letter)\n",
    "    \n",
    "while queue.is_empty() != True:\n",
    "    print(queue.dequeue())"
   ]
  },
  {
   "cell_type": "code",
   "execution_count": 15,
   "id": "a73e4c33",
   "metadata": {},
   "outputs": [],
   "source": [
    "#string of parenthesis need to be balanced, balance string (OPEN and CLOSED brackets)\n",
    "#Balance_check =True take s as parameter\n",
    "class Stack:\n",
    "    def __init__(self):\n",
    "        self.items = []\n",
    "        \n",
    "    def is_empty(self):\n",
    "        return self.items ==[]\n",
    "    \n",
    "    def push(self, item):\n",
    "        self.items.append(item)\n",
    "        \n",
    "    def pop(self):\n",
    "        return self.items.pop()\n",
    "    \n",
    "    def peek(self):\n",
    "        return self.items[len(self.items-1)]\n",
    "    \n",
    "    def size(self):\n",
    "        return len(self.items)\n",
    "    \n",
    "\n",
    "def balance_check(s):\n",
    "    \n",
    "    if len(s)%2 == 0:     #best case; O(1)\n",
    "        return False\n",
    "    opening = set(\"({[\")\n",
    "    matches = set([\n",
    "        (\"(\",\")\"),\n",
    "        (\"[\", \"]\"),\n",
    "        (\"{\",\"}\"),\n",
    "    ])\n",
    "    stack = Stack()\n",
    "    for paren in s:\n",
    "        if paren in opening:\n",
    "            stack.push(paren)\n",
    "        else:\n",
    "            if stack.is_empty():\n",
    "                return False\n",
    "            last_open = stack.pop()\n",
    "            if (last_open, paren) not in matches:\n",
    "                return False\n",
    "    return stack.is_empty() #Why do we need this line?\n"
   ]
  },
  {
   "cell_type": "code",
   "execution_count": null,
   "id": "a234f795",
   "metadata": {},
   "outputs": [],
   "source": []
  },
  {
   "cell_type": "code",
   "execution_count": null,
   "id": "ba45c7cf",
   "metadata": {},
   "outputs": [],
   "source": []
  }
 ],
 "metadata": {
  "kernelspec": {
   "display_name": "Python 3 (ipykernel)",
   "language": "python",
   "name": "python3"
  },
  "language_info": {
   "codemirror_mode": {
    "name": "ipython",
    "version": 3
   },
   "file_extension": ".py",
   "mimetype": "text/x-python",
   "name": "python",
   "nbconvert_exporter": "python",
   "pygments_lexer": "ipython3",
   "version": "3.8.10"
  }
 },
 "nbformat": 4,
 "nbformat_minor": 5
}
