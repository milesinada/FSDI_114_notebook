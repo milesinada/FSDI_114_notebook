{
 "cells": [
  {
   "cell_type": "code",
   "execution_count": 1,
   "id": "b16f4db6",
   "metadata": {},
   "outputs": [
    {
     "name": "stdout",
     "output_type": "stream",
     "text": [
      "h\n",
      "e\n",
      "l\n",
      "l\n",
      "o\n",
      ",\n",
      " \n",
      "w\n",
      "o\n",
      "r\n",
      "l\n",
      "d\n"
     ]
    }
   ],
   "source": [
    "for letter in \"hello, world\":\n",
    "    print (letter)"
   ]
  },
  {
   "cell_type": "markdown",
   "id": "5a4bb1e4",
   "metadata": {},
   "source": [
    "# Problem 1\n",
    "## Anagram check.\n",
    "\n",
    "#### Check if two strings are anagrams of eachother considering the following:\n",
    "\n",
    "##### Given two strings(string_a and string_b) we must first validate that these are of equal length and that they use the same characters in the exact same amout of times.\n",
    "\n",
    "##### For example: cars and scar are anagrams but car and scaar are not; Similarly, scar and sccr are not anagrams of each other"
   ]
  },
  {
   "cell_type": "code",
   "execution_count": 2,
   "id": "1d542aa8",
   "metadata": {},
   "outputs": [],
   "source": [
    "#pseudocode\n",
    "# function is_anagram, recieve as params -> string_a, string_b:\n",
    "#     length_of_string_a = get_length_of(string_a)\n",
    "#     length_of_string_b = get_length_of(string_b)\n",
    "#     if length_of_string_a is not equal to length_of_string_b:\n",
    "#          return False\n",
    "#     anagram_jumble = new String()\n",
    "#     loop for the length of string_a:\n",
    "#          if "
   ]
  },
  {
   "cell_type": "code",
   "execution_count": 3,
   "id": "cdfe7462",
   "metadata": {},
   "outputs": [],
   "source": [
    "# def is_anagram(string_a, string_b):\n",
    "#     if len(string_a) != len(string_b):\n",
    "#         return False\n",
    "#     char_times_a = dict()\n",
    "#     char_times_b = dict()\n",
    "#     for i in range(len(string_a)):\n",
    "#         if string_a[i] not in char_times_a.keys():\n",
    "#             char_times_a[string_a[i]] = 1\n",
    "#         else:\n",
    "#             char_times_a[string_a[i]]+= 1\n",
    "#         if string_b[i] not in char_times_b.keys():\n",
    "#             char_times_b[string_b[i]] = 1\n",
    "#         else:\n",
    "#             char_times_b[string_b[i]] += 1\n",
    "#     return char_times_a == char_times_b"
   ]
  },
  {
   "cell_type": "code",
   "execution_count": 4,
   "id": "7c27a0e2",
   "metadata": {},
   "outputs": [
    {
     "data": {
      "text/plain": [
       "True"
      ]
     },
     "execution_count": 4,
     "metadata": {},
     "output_type": "execute_result"
    }
   ],
   "source": [
    "is_anagram(\"cars\", \"scar\")"
   ]
  },
  {
   "cell_type": "code",
   "execution_count": 176,
   "id": "18f843c4",
   "metadata": {},
   "outputs": [],
   "source": [
    "string_a = \"Tom Marvolo Riddle\"\n",
    "string_b = \"I am Lord Voldemort\"\n",
    "# challenge: find a way to get is_anagram to return true for these\n",
    "# values."
   ]
  },
  {
   "cell_type": "code",
   "execution_count": 179,
   "id": "e9a18ddd",
   "metadata": {},
   "outputs": [],
   "source": [
    "def is_anagram(string_a, string_b):\n",
    "    \n",
    "    #Count String chars only\n",
    "    #Remove \" \" from String by subtracting it from length of String\n",
    "    string_a_int = len(string_a) - string_a.count(' ')\n",
    "    string_b_int = len(string_b) - string_b.count(' ')\n",
    "    if string_a_int != string_b_int:\n",
    "        return False\n",
    "    #string_a_int is an int    \n",
    "    #Convert chars to lowercase\n",
    "    string_a_chars = string_a.lower()\n",
    "    string_b_chars = string_b.lower()\n",
    "    print(string_a_chars, string_b_chars)\n",
    "    \n",
    "    char_times_a = dict()\n",
    "    char_times_b = dict()\n",
    "    for i in range(string_b_int):\n",
    "        if string_a_chars[i] not in char_times_a.keys():\n",
    "            char_times_a[string_a_chars[i]] = 1\n",
    "        else:\n",
    "            char_times_a[string_a_chars[i]]+= 1\n",
    "        if string_b_chars[i] not in char_times_b.keys():\n",
    "            char_times_b[string_b_chars[i]] = 1\n",
    "        else:\n",
    "            char_times_b[string_b_chars[i]] += 1\n",
    "    #Remove \" \" key from char_times dict..... look up syntax        \n",
    "    string_a_times = {key:val for key, val in char_times_a.items() if key != ' '}\n",
    "    string_b_times = {key:val for key, val in char_times_b.items() if key != ' '}\n",
    "    return string_a_times == string_b_times, print(string_a_times,  string_b_times)\n",
    "    #Not counting an 'o' in string \"I am Lord Voldemort\"  switched places from A-B same issue??"
   ]
  },
  {
   "cell_type": "code",
   "execution_count": 180,
   "id": "d3667828",
   "metadata": {},
   "outputs": [
    {
     "name": "stdout",
     "output_type": "stream",
     "text": [
      "tom marvolo riddle i am lord voldemort\n",
      "{'t': 1, 'o': 3, 'm': 2, 'a': 1, 'r': 2, 'v': 1, 'l': 1, 'i': 1, 'd': 2} {'i': 1, 'a': 1, 'm': 2, 'l': 2, 'o': 2, 'r': 1, 'd': 2, 'v': 1, 'e': 1}\n"
     ]
    },
    {
     "data": {
      "text/plain": [
       "(False, None)"
      ]
     },
     "execution_count": 180,
     "metadata": {},
     "output_type": "execute_result"
    }
   ],
   "source": [
    "is_anagram(string_a, string_b)"
   ]
  },
  {
   "cell_type": "code",
   "execution_count": null,
   "id": "ac79e1b3",
   "metadata": {},
   "outputs": [],
   "source": []
  },
  {
   "cell_type": "code",
   "execution_count": null,
   "id": "21d9de48",
   "metadata": {},
   "outputs": [],
   "source": []
  }
 ],
 "metadata": {
  "kernelspec": {
   "display_name": "Python 3 (ipykernel)",
   "language": "python",
   "name": "python3"
  },
  "language_info": {
   "codemirror_mode": {
    "name": "ipython",
    "version": 3
   },
   "file_extension": ".py",
   "mimetype": "text/x-python",
   "name": "python",
   "nbconvert_exporter": "python",
   "pygments_lexer": "ipython3",
   "version": "3.8.10"
  }
 },
 "nbformat": 4,
 "nbformat_minor": 5
}
