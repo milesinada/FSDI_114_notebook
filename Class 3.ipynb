{
 "cells": [
  {
   "cell_type": "code",
   "execution_count": 8,
   "id": "0a0b502a",
   "metadata": {},
   "outputs": [
    {
     "name": "stdout",
     "output_type": "stream",
     "text": [
      "0\n",
      "1\n",
      "2\n",
      "3\n",
      "4\n"
     ]
    }
   ],
   "source": [
    "class Queue2Stacks:\n",
    "    def __init__(self):\n",
    "        #two Stacks\n",
    "        self.stack1 = []\n",
    "        self.stack2 = []\n",
    "        \n",
    "    def enqueue(self,element):\n",
    "        #recieve element as parameter:\n",
    "        #    push element to stack1\n",
    "        self.stack1.append(element)\n",
    "        pass\n",
    "    \n",
    "    def dequeue(self):\n",
    "        #while stack1 is not empty:\n",
    "        #     element = stack1.pop()\n",
    "        #     push element to stack 2 \n",
    "        #return stack2.pop()\n",
    "        while self.stack1 != []:\n",
    "            element = self.stack1.pop()\n",
    "            self.stack2.append(element)\n",
    "        return self.stack2.pop()\n",
    "        pass\n",
    "    \n",
    "def test():\n",
    "    \"\"\"\"This should print 0,1,2,3,4 \n",
    "    note: it will print vertically\"\"\"\n",
    "    q = Queue2Stacks()\n",
    "    for i in range(5):\n",
    "        q.enqueue(i)\n",
    "    for i in range(5):\n",
    "        print(q.dequeue())\n",
    "        \n",
    "test()"
   ]
  },
  {
   "cell_type": "code",
   "execution_count": 11,
   "id": "2e1e8512",
   "metadata": {},
   "outputs": [
    {
     "data": {
      "text/plain": [
       "3628800"
      ]
     },
     "execution_count": 11,
     "metadata": {},
     "output_type": "execute_result"
    }
   ],
   "source": [
    "def fact(n):\n",
    "    if n == 0:\n",
    "        return 1\n",
    "    return n * fact(n-1)\n",
    "fact(10)"
   ]
  },
  {
   "cell_type": "code",
   "execution_count": null,
   "id": "c028d8c0",
   "metadata": {},
   "outputs": [],
   "source": [
    "# we knmow that fibonacci number is the sum of the two preceding numbers in\n",
    "#the series. F(n) = F(n-1) + F(n-2)\n",
    "\n",
    "# A good case would be when n<2 becauase any number below 2 in the series is simply that same number\n",
    "\n",
    "#implementation\n",
    "def fib(n):\n",
    "    if n < 2:\n",
    "        return n\n",
    "    return fib(n-1) + fib(n-2)\n",
    "#Warning: test with a number below 50"
   ]
  },
  {
   "cell_type": "code",
   "execution_count": 14,
   "id": "1c80dd45",
   "metadata": {},
   "outputs": [
    {
     "data": {
      "text/plain": [
       "21"
      ]
     },
     "execution_count": 14,
     "metadata": {},
     "output_type": "execute_result"
    }
   ],
   "source": [
    "fib(8)"
   ]
  },
  {
   "cell_type": "code",
   "execution_count": 16,
   "id": "75989b81",
   "metadata": {},
   "outputs": [
    {
     "data": {
      "text/plain": [
       "354224848179261915075"
      ]
     },
     "execution_count": 16,
     "metadata": {},
     "output_type": "execute_result"
    }
   ],
   "source": [
    "from functools import lru_cache\n",
    "#Least Recently Used = lru\n",
    "@lru_cache\n",
    "def fib_2(n):\n",
    "    if n < 2:\n",
    "        return n\n",
    "    return fib_2(n-1) + fib_2(n-2)\n",
    "fib_2(100)"
   ]
  },
  {
   "cell_type": "code",
   "execution_count": 19,
   "id": "5eb1e6e2",
   "metadata": {},
   "outputs": [],
   "source": [
    "fib_numbers = {}\n",
    "\n",
    "def fib_3(n):\n",
    "    if n in fib_numbers.keys():\n",
    "        return fib_numbers.get(n)\n",
    "    else:\n",
    "        if n < 2:\n",
    "            return n\n",
    "        fib_numbers[n] = fib_3(n-1) + fib_3(n-2)\n",
    "        return fib_numbers.get(n)\n",
    "        "
   ]
  },
  {
   "cell_type": "code",
   "execution_count": 23,
   "id": "12673571",
   "metadata": {},
   "outputs": [
    {
     "data": {
      "text/plain": [
       "354224848179261915075"
      ]
     },
     "execution_count": 23,
     "metadata": {},
     "output_type": "execute_result"
    }
   ],
   "source": [
    "fib_3(100)"
   ]
  },
  {
   "cell_type": "code",
   "execution_count": 4,
   "id": "1b18886b",
   "metadata": {},
   "outputs": [],
   "source": [
    "class Node:\n",
    "    def __init__(self,data):\n",
    "        self.data = data\n",
    "        self.next = None"
   ]
  },
  {
   "cell_type": "code",
   "execution_count": 5,
   "id": "32aeb947",
   "metadata": {},
   "outputs": [
    {
     "name": "stdout",
     "output_type": "stream",
     "text": [
      "0\n",
      "1\n",
      "2\n",
      "[0, 1, 2, 3]\n"
     ]
    }
   ],
   "source": [
    "\n",
    "head = Node(0)\n",
    "\n",
    "node1 = Node(1)\n",
    "\n",
    "head.next = node1\n",
    "\n",
    "node2 = Node(2)\n",
    "\n",
    "node1.next = node2\n",
    "\n",
    "current = head\n",
    "while current: #!= None:\n",
    "    print(current.data)\n",
    "    current = current.next\n",
    "    \n",
    "reg_python_list = [0,1, 2, 3]\n",
    "print(reg_python_list)"
   ]
  },
  {
   "cell_type": "code",
   "execution_count": 6,
   "id": "b5d446fa",
   "metadata": {},
   "outputs": [],
   "source": [
    "class SinglyLinkedList:\n",
    "    def __init__(self):\n",
    "        self.head = None\n",
    "        \n",
    "    def append(self, item):\n",
    "        if not self.head:\n",
    "            self.head = Node(item)\n",
    "        else:\n",
    "            current = self.head\n",
    "            while current.next:\n",
    "                current = current.next\n",
    "            current.next = Node(item)\n",
    "            \n",
    "    def __str__(self):\n",
    "        out_str = \"[\"\n",
    "        current = self.head\n",
    "        while current.next:\n",
    "            out_str += \" %s,\" % str(current.data)\n",
    "            current = current.next\n",
    "        out_str += \" %s]\" % str(current.data)\n",
    "        return out_str\n",
    "    "
   ]
  },
  {
   "cell_type": "code",
   "execution_count": 7,
   "id": "c5beb3da",
   "metadata": {},
   "outputs": [
    {
     "name": "stdout",
     "output_type": "stream",
     "text": [
      "[ 0, 1, 2, 3, 4]\n"
     ]
    }
   ],
   "source": [
    "sll = SinglyLinkedList()\n",
    "\n",
    "for i in range(5):\n",
    "    sll.append(i)\n",
    "    \n",
    "print(sll)"
   ]
  },
  {
   "cell_type": "code",
   "execution_count": 59,
   "id": "0c858336",
   "metadata": {},
   "outputs": [],
   "source": [
    "class Stack:\n",
    "    def __init__(self):\n",
    "        self.items = []\n",
    "        \n",
    "    def is_empty(self):\n",
    "        return self.items ==[]\n",
    "    \n",
    "    def push(self, item):\n",
    "        self.items.append(item)\n",
    "        \n",
    "    def pop(self):\n",
    "        return self.items.pop()\n",
    "    \n",
    "    def peek(self):\n",
    "        return self.items[len(self.items-1)]\n",
    "    \n",
    "    def size(self):\n",
    "        return len(self.items)"
   ]
  },
  {
   "cell_type": "code",
   "execution_count": 60,
   "id": "fdf04857",
   "metadata": {},
   "outputs": [],
   "source": [
    "class Queue:\n",
    "    def __init__(self):\n",
    "        self.items = []\n",
    "    \n",
    "    def is_empty(self):\n",
    "        return self.items == []\n",
    "    \n",
    "    def enqueue(self, item):\n",
    "        self.items.insert(0, item)\n",
    "    \n",
    "    def dequeue(self):\n",
    "        return self.items.pop()\n",
    "    \n",
    "    def size(self):\n",
    "        return len(self.items)"
   ]
  },
  {
   "cell_type": "code",
   "execution_count": null,
   "id": "74ae2130",
   "metadata": {},
   "outputs": [],
   "source": []
  }
 ],
 "metadata": {
  "kernelspec": {
   "display_name": "Python 3 (ipykernel)",
   "language": "python",
   "name": "python3"
  },
  "language_info": {
   "codemirror_mode": {
    "name": "ipython",
    "version": 3
   },
   "file_extension": ".py",
   "mimetype": "text/x-python",
   "name": "python",
   "nbconvert_exporter": "python",
   "pygments_lexer": "ipython3",
   "version": "3.8.10"
  }
 },
 "nbformat": 4,
 "nbformat_minor": 5
}
